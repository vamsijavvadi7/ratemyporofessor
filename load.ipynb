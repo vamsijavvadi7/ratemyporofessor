{
 "cells": [
  {
   "cell_type": "code",
   "execution_count": 5,
   "metadata": {},
   "outputs": [
    {
     "name": "stderr",
     "output_type": "stream",
     "text": [
      "c:\\Users\\vamsi\\Miniconda3\\envs\\rag\\lib\\site-packages\\pinecone\\data\\index.py:1: TqdmWarning: IProgress not found. Please update jupyter and ipywidgets. See https://ipywidgets.readthedocs.io/en/stable/user_install.html\n",
      "  from tqdm.autonotebook import tqdm\n"
     ]
    }
   ],
   "source": [
    "from dotenv import load_dotenv\n",
    "load_dotenv() \n",
    "import os\n",
    "\n",
    "from pinecone import Pinecone, ServerlessSpec\n",
    "import google.generativeai as genai\n",
    "import os\n",
    "\n"
   ]
  },
  {
   "cell_type": "code",
   "execution_count": 6,
   "metadata": {},
   "outputs": [],
   "source": [
    "pc = Pinecone(api_key=os.getenv(\"PINECONE_API_KEY\"))\n",
    "pc.create_index(\n",
    "    name=\"rag\",\n",
    "    dimension=768, # Replace with your model dimensions\n",
    "    metric=\"cosine\", # Replace with your model metric\n",
    "    spec=ServerlessSpec(\n",
    "        cloud=\"aws\",\n",
    "        region=\"us-east-1\"\n",
    "    ) \n",
    ")"
   ]
  },
  {
   "cell_type": "code",
   "execution_count": 8,
   "metadata": {},
   "outputs": [
    {
     "name": "stdout",
     "output_type": "stream",
     "text": [
      "{'reviews': [{'professor': 'Dr. Alice Johnson', 'subject': 'Computer Science', 'stars': 4, 'review': 'Dr. Johnson is very knowledgeable and provides clear explanations. The coursework is challenging but rewarding.'}, {'professor': 'Dr. Bob Smith', 'subject': 'Mathematics', 'stars': 5, 'review': 'Dr. Smith makes complex topics easy to understand and is always available for help. Highly recommended!'}, {'professor': 'Dr. Carol Davis', 'subject': 'Physics', 'stars': 3, 'review': 'Dr. Davis is a good lecturer, but the class can be quite demanding. Extra study is needed to keep up.'}, {'professor': 'Dr. David Wilson', 'subject': 'Chemistry', 'stars': 4, 'review': 'Dr. Wilson is enthusiastic and engaging. The labs are well-organized and provide a hands-on learning experience.'}, {'professor': 'Dr. Emily Brown', 'subject': 'Biology', 'stars': 5, 'review': 'Dr. Brown is passionate about the subject and makes learning enjoyable. Her exams are fair and well-structured.'}, {'professor': 'Dr. Frank Green', 'subject': 'Economics', 'stars': 3, 'review': 'Dr. Green covers the material thoroughly but can be a bit dry. The exams are quite challenging.'}, {'professor': 'Dr. Grace Lee', 'subject': 'History', 'stars': 4, 'review': 'Dr. Lee provides a comprehensive overview of historical events and encourages critical thinking. Class discussions are lively.'}, {'professor': 'Dr. Henry Adams', 'subject': 'Philosophy', 'stars': 2, 'review': 'Dr. Adams has a deep understanding of philosophy, but the lectures can be hard to follow. The grading is strict.'}, {'professor': 'Dr. Irene Martinez', 'subject': 'Sociology', 'stars': 4, 'review': 'Dr. Martinez is approachable and makes the subject matter relevant. Group projects are a major part of the grade.'}, {'professor': 'Dr. Jack Turner', 'subject': 'Engineering', 'stars': 5, 'review': 'Dr. Turner is an excellent instructor with practical industry experience. His classes are challenging but very rewarding.'}, {'professor': 'Dr. Karen Thompson', 'subject': 'Art History', 'stars': 3, 'review': 'Dr. Thompson is knowledgeable, but the class can be quite lecture-heavy. The exams are based on a lot of memorization.'}, {'professor': 'Dr. Larry Scott', 'subject': 'Political Science', 'stars': 4, 'review': 'Dr. Scott brings real-world examples into the classroom and encourages debate. Assignments are thought-provoking.'}, {'professor': 'Dr. Megan Clark', 'subject': 'Environmental Science', 'stars': 5, 'review': 'Dr. Clark is very engaging and passionate about the subject. The field trips are a great addition to the coursework.'}, {'professor': 'Dr. Nathan King', 'subject': 'Statistics', 'stars': 3, 'review': 'Dr. King is thorough but the pace of the class can be fast. Additional practice problems are necessary for exams.'}, {'professor': 'Dr. Olivia Young', 'subject': 'Linguistics', 'stars': 4, 'review': 'Dr. Young provides a clear understanding of language theories and is very supportive. The coursework is well-organized.'}, {'professor': 'Dr. Paul Wright', 'subject': 'Music', 'stars': 4, 'review': 'Dr. Wright is talented and passionate about music. The class is interactive and allows for creative expression.'}, {'professor': 'Dr. Quinn Harris', 'subject': 'Theater', 'stars': 5, 'review': 'Dr. Harris is inspiring and encourages students to explore their creativity. The projects are very engaging.'}, {'professor': 'Dr. Rachel Lewis', 'subject': 'Gender Studies', 'stars': 4, 'review': 'Dr. Lewis fosters an inclusive environment and encourages open discussion. The assignments are challenging but insightful.'}, {'professor': 'Dr. Steve Walker', 'subject': 'Geography', 'stars': 3, 'review': 'Dr. Walker covers the material well but the class can be quite theoretical. Fieldwork is a key component of the course.'}, {'professor': 'Dr. Tara Hill', 'subject': 'Nutrition', 'stars': 4, 'review': 'Dr. Hill is very knowledgeable and provides practical advice. The class includes hands-on activities that enhance learning.'}, {'professor': 'Dr. Ursula Robinson', 'subject': 'Astronomy', 'stars': 5, 'review': \"Dr. Robinson's passion for astronomy is evident. The lectures are engaging and the observational sessions are a highlight.\"}]}\n"
     ]
    }
   ],
   "source": [
    "import json\n",
    "data = json.load(open(\"reviews.json\"))\n",
    "print(data)"
   ]
  },
  {
   "cell_type": "code",
   "execution_count": 32,
   "metadata": {},
   "outputs": [
    {
     "name": "stdout",
     "output_type": "stream",
     "text": [
      "{'values': [0.02634067, 0.013287711, -0.052881934, 0.040315073, 0.023649799, 0.0152715435, 0.019565336, 0.021157375, 0.0069335676, 0.02087402, 0.016592577, 0.04583076, 0.037365578, -0.0039085075, -0.014221265, -0.014799807, 0.03208434, 0.031440333, -0.08660825, 0.05127053, -0.04974452, -0.04418412, 0.017020468, -0.022884589, 0.009784842, -0.010186997, 0.039900854, -0.029088382, 0.06894283, -0.04123809, 0.016897563, 0.0330394, -0.019810425, -0.07588808, -0.035672147, 0.052513096, -0.009113507, -0.017286662, 0.012973192, -0.058188904, -0.056938175, -0.020297997, -0.014873424, 0.030961527, -0.020016016, -0.012275609, 0.0014502892, 0.043206155, -0.011922882, 0.07783824, 0.028265238, 0.035824094, -0.049157012, 0.05060002, -0.014726517, -0.057791088, -0.028225651, -0.038659826, 0.02160293, -0.04106399, -0.026827985, -0.032670923, -0.039352823, -0.07987066, 0.042818446, -0.018978603, -0.066181876, -0.020112956, 0.032214854, -0.007659963, -0.0060609984, -0.0080979075, 0.0006024843, 0.028435996, 0.007128092, -0.033509523, -0.01640128, 0.022955326, 0.014480976, -0.027483016, -0.037277434, 0.010212598, 0.11373921, -0.017467884, 0.004160841, -0.0068731685, 0.012274246, -0.07028841, -0.0458238, -0.027512241, 0.06135929, 0.023151966, -0.001115501, 0.059774805, 0.0010756938, -0.021114929, -0.023665167, 0.00868525, 0.050995577, 0.087161, -0.0012898573, 0.068960756, 0.029536692, -0.038705934, 0.021059204, 0.06918624, -0.022998322, -0.014314667, -0.09517264, 0.08382973, -0.05886565, -0.017487703, 0.03453827, -0.0074539864, -0.011376185, 0.023845438, -0.070725806, 0.025593972, -0.016542912, -0.03126524, 0.026937593, 0.012262087, 0.009014773, 0.028538207, 0.06549044, -0.029587863, 0.021426551, 0.0028353154, 0.014863514, -0.026565906, 0.048875447, -0.040048562, 0.027877284, -0.016769564, 0.02380664, -0.092957, 0.041116655, -0.024540015, 0.0067504006, 0.027954416, -0.03112275, 0.034000628, -0.053273194, 0.04578095, -0.020859696, -0.038722616, 0.053781103, 0.06988041, 0.049741577, 0.0094828205, -0.038176183, -0.043284148, 0.005034112, 0.011943665, -0.05755737, -0.009624372, -0.012085603, -0.019813785, -0.01850186, 0.023569554, 0.0028775826, -0.004004349, -0.033601638, 0.06198854, -0.041947257, -0.055299208, -0.05215289, 0.00021675671, 0.01143715, -0.0064813993, -0.0634266, -0.018762577, -0.035133164, 0.0035554194, 0.009068965, 0.02641689, -0.055713184, -0.10872981, 0.026088318, -0.0002398984, 0.012432578, -0.009122042, 0.03584509, -0.04980354, -0.017887948, -0.0028583126, -0.069556765, 0.046714507, 0.008428288, 0.02794976, -0.024357945, 0.015621243, -0.0008356544, 0.011327957, 0.036616113, -0.014071775, -0.012081952, -0.021924423, 0.03229731, -0.08537418, 0.008927084, -0.01321755, 0.03600944, -0.051018763, -0.026748575, 0.019743463, -0.053332448, -0.016114991, 0.07079109, -0.037680283, -0.019483063, -0.038021725, -0.03339896, -0.0028983282, 0.035881646, -0.044426303, 0.02548584, -0.037383113, 0.06267172, 0.011744353, 0.057271034, -0.057982825, -0.016327735, 0.00039828726, 0.039509296, 0.06479523, -0.045076557, 0.036904655, 0.017562946, -0.033959188, -0.005334251, -0.009599409, -0.013470285, 0.047208693, 0.0023447063, 0.042853005, 0.003599779, -0.0052599194, -0.0067193327, 0.04682929, -0.0049757976, -0.008417025, 0.060479715, -0.023494441, 0.029448023, 0.0068099266, 0.013682957, 0.0068557765, 0.018083433, 0.034547146, 0.017834777, 0.0027834743, 0.004827387, 0.022957686, -0.03956793, 0.069492616, 0.04558955, -0.05247693, 0.021815922, -0.007506446, 0.06843476, -0.009010156, 0.026566355, -0.064849585, -0.011280064, -0.09107853, -0.056147948, -0.01674924, 0.04211404, -0.050715845, 0.035628814, 0.0051782182, -0.04142183, -0.031401537, -0.022171766, 0.028264927, -0.043404583, -0.013146798, -0.024304684, 0.015096085, 0.004847573, -0.006895601, -0.020239832, 0.040478345, 0.017516952, 0.0038652557, 0.014879974, -0.005715735, -0.052438542, -0.05266521, -0.02582235, -0.010747046, -0.0076056984, -0.003888865, 0.025059393, 0.05844096, 0.061803017, 0.08598036, 0.013786885, -0.018178629, -0.0037452616, 0.03929745, -0.05886872, 0.0747223, -0.037569504, 0.019368146, -0.03447292, 0.015900224, -0.022304598, -0.027340816, 0.026377449, -0.009384047, -0.04177927, -0.08080876, -0.02854058, -0.045938853, -0.11673276, -0.025953515, -0.015411681, 0.05704984, -0.011221036, 0.0069381227, -0.021068806, 0.03722232, 0.035222366, -0.02421977, -0.010689999, 0.001600799, 0.04020909, -0.008194907, 0.027581297, -0.0032974388, -0.043159027, -0.02993065, 0.0028379369, 0.03280324, -0.033490516, 0.08516276, 0.027439248, 0.011956837, -0.029908068, 0.051398665, 0.06151816, 0.09909083, 0.07105981, -0.015618941, -0.05108839, -0.007233595, -0.0017150247, -0.02609152, 0.009221897, 0.04108752, 0.024230486, -0.007032747, -0.021174578, 0.08507959, 0.034159794, 0.015856134, 0.030780379, -0.013812708, 0.00032188007, 0.02121614, -0.012350389, 0.06537598, -0.053674623, 0.0030213313, 0.0025680433, 0.021156184, -0.014381848, -0.037453536, -0.010343715, 0.020430142, -0.025925335, -0.054641046, -0.004716283, -0.043385074, -0.043225292, 0.019232413, 0.051007863, -0.00964783, -0.00062577444, -0.014291349, 0.029156793, 0.060704175, -0.03132696, 0.017067863, -0.11087527, 0.020259442, 0.035182856, 0.00586777, -0.020470023, 0.099610515, 0.029235154, -0.042959888, -0.017926827, 0.07089092, -0.024459964, 0.044386525, 0.005004583, 0.06219688, 0.022536073, -0.05034586, 0.0033898673, -0.02506539, -0.0052719377, -0.0039649345, 0.047108028, -0.036845434, 0.016073288, -0.007014522, 0.011628196, -0.017955976, 0.00946393, 0.032739982, 0.013877945, -0.014365786, -0.052231144, 0.022932673, 0.009701516, 0.085204706, 0.007095137, 0.00075892924, -0.00892421, -0.028997399, -0.020597361, -0.0431459, 0.004888626, 0.021142645, 0.0030456271, -0.007181693, 0.026621012, 0.04279613, -0.011113489, -0.0023633202, 0.0032321147, 0.05387144, 0.017408136, -0.0001734682, 0.012748415, 0.05501846, 0.002275852, 0.022583885, -0.04806219, 0.026244223, -0.0132224485, 0.0037796055, 0.037780114, 0.01546959, -0.003718492, 0.016507914, -0.009969596, -0.03479145, 0.02579793, -0.008766115, -0.07959424, 0.077411674, -0.009651525, -0.015537207, 0.0037152392, 0.023887543, -0.003979795, -0.03984328, -0.020010449, -0.0011786891, -0.029393343, 0.005683642, 0.0054024374, -0.0012958535, 0.011058544, -0.0054220483, 0.037995376, -0.01456634, 0.022588354, -0.0351526, 0.021973774, 0.006293279, -0.016095014, -0.039644927, 0.017562747, -0.025104955, 0.009146428, -0.0518924, -0.02608945, 0.011880882, 0.050434295, 0.014506686, 0.016878145, 0.00530067, 0.003950527, -0.009147315, 0.011841763, 0.038497474, -0.0005052056, -0.0033135526, 0.013247112, -0.04020144, 0.086025596, 0.032123372, -0.058266487, 0.074133106, 0.082147755, 0.03050333, -0.0014976697, -0.069012955, -0.025005104, -0.012629197, -0.030212425, 0.013780676, -0.0019849688, 0.071215145, 0.05413538, -0.0003880225, -0.0041483673, -0.0020069845, -0.000537582, -0.00633737, -0.023572842, 0.0035595817, 0.00096981844, -0.019745542, -0.022259211, -0.0607637, 0.020045387, -0.019752163, -0.010249621, 0.027477933, 0.03020583, -0.02052315, 0.00055297447, -0.0052215112, -0.0234579, 0.07517172, 0.053577486, 0.014278091, 0.02097872, 0.09911941, 0.010854258, 0.019630853, 0.03605231, -0.023289744, 0.02344435, 0.034696653, 0.043786727, 0.04179693, 0.049552068, -0.031140793, 0.04980069, 0.07613572, 0.01280671, 0.036136687, 0.010583938, -0.052557368, -0.020071441, 0.0429525, -0.028597012, -0.023185134, 0.005579632, -0.0047033215, -0.01483101, 0.0044023865, 0.007818109, -0.0054818685, -0.021693218, 0.019476943, -0.019700462, -0.0007167877, -0.025012022, 0.01189007, -0.03095096, -0.01747159, -0.027938742, 0.02769969, 0.022485495, -0.03501203, 0.05231122, 0.004569009, -0.040454883, -0.019242497, 0.053925887, -0.0010519411, -0.020849733, -0.060809508, -0.009569613, -0.02477066, -0.0057611084, 0.001840414, 0.038707737, -0.03135657, -0.030537969, -0.06554677, -0.009498133, 0.035825297, 0.0109241, -0.027491642, 0.060920037, -0.026441079, 0.0307846, 0.034852218, -0.00089275575, 0.015130633, 0.022021953, -0.023125386, 0.050774597, -0.00287342, -0.029023072, -0.060364872, -0.0056678182, -0.014167355, 0.0040983274, -0.00615619, 0.0064632236, -0.011411559, 0.009150359, 0.011643351, -0.0560464, 0.049792465, -0.026997894, -0.0058880616, 0.012093633, 0.02227855, 0.026827766, 0.009220528, 0.022957925, 0.018797426, 0.035194512, 0.013948486, -0.033179324, -0.00042934643, 0.045534164, -0.070847206, 0.0063932207, 0.0039555975, -0.014469313, -0.024671145, 0.03041611, 0.0039401255, -0.026699433, 0.00091419753, 0.05734202, -0.052393746, 0.0005338228, -0.0011026936, 0.009138095, -0.061728273, -0.087865055, 0.013684861, 0.0014078575, -0.008231199, 0.04975085, 0.06840491, -0.025398983, 0.01648741, 0.013428328, 0.061858617, -0.033507187, -0.034776803, -0.036201157, -0.06566924, -0.021712463, 0.0007517779, -0.03397955, 0.017644526, 0.022774465, 0.0033620633, -0.038234733, 0.008345507, -0.0652307, 0.00013268457, -0.03369071, 0.021489462, -0.02034099, -0.018406412, -0.024560213, 0.03430052, -0.05868871, 0.0014369845, 0.043956213, 0.0032768904, -0.06536678, 0.037560537, 0.0208845, -0.027370729, 0.004578532, -0.017068332, 0.065051384, -0.038000762, 0.049941428, 0.021098357, 0.017518966, -0.017508918, -0.010842512, -0.08646618, 0.006071264, 0.007584963, -0.0014635134, 0.075535946, -0.030784475, 0.063987136, 0.018685661, 0.04237744, -0.012921313, -0.016600056, -0.0772517, -0.02145581, -0.0073313285, 0.010066131, 0.024874674, -0.029178565, 0.026951274, -0.0034549236, 0.008653024, 0.043021943, 0.021879684, -0.034368094, 0.02075667, 0.004859889, 0.01239861, 0.030762637, 0.025948625, -0.073691405, 0.010855334, 0.0074584093, 0.030546986, 0.05075778, 0.0008341437, 0.007660501, -0.021284668, 0.022105739, -0.036207713, 0.023002863, -1.3885667e-05, -0.004900762, 0.0025501342, -0.021189073, -0.05016402, -0.07228836, -0.030119741, -0.036498465, 0.014276265, -0.021417767, -0.05124863, -0.0007059259, -0.0072867326, -0.007549056, 0.013930052, 0.049472418, 0.001769094, -0.017774606, -0.0030473408, -0.04182037, -0.09710108, -0.014070425, 0.0024007827, -0.0124808, 0.031712174, -0.039119914, 0.031440917, 0.040086057, -0.03463125, -0.016160166, -0.04924184, 0.0031252974, 0.011717124, 5.785643e-05, -0.0696257, -0.048834734, 0.042662643, -0.038342223], 'id': 'Dr. Alice Johnson', 'metadata': {'review': 'Dr. Johnson is very knowledgeable and provides clear explanations. The coursework is challenging but rewarding.', 'subject': 'Computer Science', 'stars': 4}}\n"
     ]
    }
   ],
   "source": [
    "processed_data = []\n",
    "\n",
    "genai.configure(api_key=os.getenv(\"GEMINI_API_KEY\"))\n",
    "\n",
    "\n",
    "\n",
    "\n",
    "\n",
    "for review in data[\"reviews\"]:\n",
    "        embedding = genai.embed_content(\n",
    "            model=\"models/text-embedding-004\",\n",
    "            content=str(review),\n",
    "        )\n",
    "        processed_data.append({\n",
    "            \"values\": embedding['embedding'],\n",
    "            \"id\": review[\"professor\"],\n",
    "            \"metadata\": {\n",
    "                \"review\": review[\"review\"],\n",
    "                \"subject\": review[\"subject\"],\n",
    "                \"stars\": review[\"stars\"],\n",
    "            }\n",
    "        }\n",
    "        )\n",
    "print(processed_data[0])"
   ]
  },
  {
   "cell_type": "code",
   "execution_count": 33,
   "metadata": {},
   "outputs": [],
   "source": [
    "\n",
    "# Insert the embeddings into the Pinecone index\n",
    "index = pc.Index(\"rag\")\n",
    "upsert_response = index.upsert(\n",
    "    vectors=processed_data,\n",
    "    namespace=\"ns1\",\n",
    ")\n"
   ]
  },
  {
   "cell_type": "code",
   "execution_count": 34,
   "metadata": {},
   "outputs": [
    {
     "name": "stdout",
     "output_type": "stream",
     "text": [
      "{'dimension': 768,\n",
      " 'index_fullness': 0.0,\n",
      " 'namespaces': {'ns1': {'vector_count': 21}},\n",
      " 'total_vector_count': 21}\n"
     ]
    }
   ],
   "source": [
    "print(index.describe_index_stats())"
   ]
  }
 ],
 "metadata": {
  "kernelspec": {
   "display_name": "rag",
   "language": "python",
   "name": "python3"
  },
  "language_info": {
   "codemirror_mode": {
    "name": "ipython",
    "version": 3
   },
   "file_extension": ".py",
   "mimetype": "text/x-python",
   "name": "python",
   "nbconvert_exporter": "python",
   "pygments_lexer": "ipython3",
   "version": "3.10.14"
  }
 },
 "nbformat": 4,
 "nbformat_minor": 2
}
